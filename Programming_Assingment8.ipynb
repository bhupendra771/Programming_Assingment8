{
 "cells": [
  {
   "cell_type": "code",
   "execution_count": 49,
   "id": "1e85727b",
   "metadata": {},
   "outputs": [
    {
     "name": "stdout",
     "output_type": "stream",
     "text": [
      "2\n",
      "4\n",
      "6\n",
      "8\n",
      "10\n",
      "12\n",
      "14\n",
      "16\n",
      "18\n"
     ]
    }
   ],
   "source": [
    "# 1.\tWrite a Python Program to Add Two Matrices?\n",
    "X= [[1,2,3],\n",
    "    [4 ,5,6],\n",
    "    [7 ,8,9]]\n",
    " \n",
    "Y= [[1,2,3],\n",
    "    [4 ,5,6],\n",
    "    [7 ,8,9]]\n",
    "Z = [[0,0,0],\n",
    "     [0,0,0],\n",
    "     [0,0,0]]\n",
    "for i in range(len(X)):\n",
    "    for j in range(len(Y)):\n",
    "        Z[i][j] = X[i][j] + Y[i][j]\n",
    "        \n",
    "for i in range(3):\n",
    "    for j in range(3):\n",
    "        print(Z[i][j])\n",
    "        \n",
    "\n",
    "            "
   ]
  },
  {
   "cell_type": "code",
   "execution_count": 51,
   "id": "83e8a532",
   "metadata": {},
   "outputs": [
    {
     "name": "stdout",
     "output_type": "stream",
     "text": [
      "1\n",
      "4\n",
      "9\n",
      "16\n",
      "25\n",
      "36\n",
      "49\n",
      "64\n",
      "81\n"
     ]
    }
   ],
   "source": [
    "# 2.\tWrite a Python Program to Multiply Two Matrices?\n",
    "X= [[1,2,3],\n",
    "    [4 ,5,6],\n",
    "    [7 ,8,9]]\n",
    " \n",
    "Y= [[1,2,3],\n",
    "    [4 ,5,6],\n",
    "    [7 ,8,9]]\n",
    "Z = [[0,0,0],\n",
    "     [0,0,0],\n",
    "     [0,0,0]]\n",
    "for i in range(len(X)):\n",
    "    for j in range(len(Y)):\n",
    "        Z[i][j] = X[i][j] * Y[i][j]\n",
    "        \n",
    "for i in range(3):\n",
    "    for j in range(3):\n",
    "        print(Z[i][j])\n"
   ]
  },
  {
   "cell_type": "code",
   "execution_count": 55,
   "id": "8172d5fe",
   "metadata": {},
   "outputs": [
    {
     "name": "stdout",
     "output_type": "stream",
     "text": [
      "1\n",
      "4\n",
      "7\n",
      "2\n",
      "5\n",
      "8\n",
      "3\n",
      "6\n",
      "9\n"
     ]
    }
   ],
   "source": [
    "# 3.\tWrite a Python Program to Transpose a Matrix?\n",
    "X= [[1,2,3],\n",
    "    [4 ,5,6],\n",
    "    [7 ,8,9]]\n",
    " \n",
    "\n",
    "Z = [[0,0,0],\n",
    "     [0,0,0],\n",
    "     [0,0,0]]\n",
    "for i in range(len(X)):\n",
    "    for j in range(len(Y)):\n",
    "        Z[i][j] = X[j][i]\n",
    "        \n",
    "for i in range(3):\n",
    "    for j in range(3):\n",
    "        print(Z[i][j])\n",
    "\n"
   ]
  },
  {
   "cell_type": "code",
   "execution_count": 101,
   "id": "d805058c",
   "metadata": {},
   "outputs": [
    {
     "name": "stdout",
     "output_type": "stream",
     "text": [
      "a\n",
      "alphabetic\n",
      "in\n",
      "order\n",
      "program\n",
      "python\n",
      "sort\n",
      "to\n",
      "words\n",
      "write\n"
     ]
    }
   ],
   "source": [
    "# 4.\tWrite a Python Program to Sort Words in Alphabetic Order?\n",
    "words = \"Write a Python Program to Sort Words in Alphabetic Order\"\n",
    "\n",
    "wor = [word.lower() for word in words.split()]\n",
    "wor.sort()\n",
    "\n",
    "for i in wor:\n",
    "    print(i)\n",
    "    \n",
    "  \n",
    "\n",
    "\n"
   ]
  },
  {
   "cell_type": "code",
   "execution_count": 106,
   "id": "07490714",
   "metadata": {},
   "outputs": [],
   "source": [
    "# 5.\tWrite a Python Program to Remove Punctuation From a String\n",
    "import string\n",
    "\n",
    "s = \"string.@ With. / #Punctuation?\"\n",
    "table = str.maketrans(dict.fromkeys(string.punctuation))  # OR {key: None for key in string.punctuation}\n",
    "new_s = s.translate(table)       \n",
    " "
   ]
  },
  {
   "cell_type": "code",
   "execution_count": 107,
   "id": "554f933f",
   "metadata": {},
   "outputs": [
    {
     "data": {
      "text/plain": [
       "'string With  Punctuation'"
      ]
     },
     "execution_count": 107,
     "metadata": {},
     "output_type": "execute_result"
    }
   ],
   "source": [
    "new_s"
   ]
  },
  {
   "cell_type": "code",
   "execution_count": null,
   "id": "5822a925",
   "metadata": {},
   "outputs": [],
   "source": []
  },
  {
   "cell_type": "code",
   "execution_count": null,
   "id": "d7cc942a",
   "metadata": {},
   "outputs": [],
   "source": [
    "\n"
   ]
  }
 ],
 "metadata": {
  "kernelspec": {
   "display_name": "Python 3 (ipykernel)",
   "language": "python",
   "name": "python3"
  },
  "language_info": {
   "codemirror_mode": {
    "name": "ipython",
    "version": 3
   },
   "file_extension": ".py",
   "mimetype": "text/x-python",
   "name": "python",
   "nbconvert_exporter": "python",
   "pygments_lexer": "ipython3",
   "version": "3.10.4"
  }
 },
 "nbformat": 4,
 "nbformat_minor": 5
}
